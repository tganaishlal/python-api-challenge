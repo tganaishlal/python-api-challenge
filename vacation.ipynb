{
 "cells": [
  {
   "cell_type": "code",
   "execution_count": null,
   "id": "fabc3654",
   "metadata": {},
   "outputs": [],
   "source": [
    "# create dependency\n",
    "import hvplot.pandas\n",
    "import pandas as pd\n",
    "import requests\n",
    "\n",
    "# API Key\n",
    "from api_keys import geoapify_key"
   ]
  },
  {
   "cell_type": "code",
   "execution_count": null,
   "id": "041d25ec",
   "metadata": {},
   "outputs": [],
   "source": [
    "# Load the CSV file \n",
    "city_data_df = pd.read_csv(\"output_data/cities.csv\")\n",
    "\n"
   ]
  },
  {
   "cell_type": "code",
   "execution_count": null,
   "id": "42d7a69c",
   "metadata": {},
   "outputs": [],
   "source": [
    "# Configure the map plot\n",
    "map_plot_1 = city_data_df.hvplot.points(\n",
    "    \"Lng\",\n",
    "    \"Lat\",\n",
    "    geo = True,\n",
    "    tiles = \"OSM\",\n",
    "    frame_width = 800,\n",
    "    frame_height = 600,\n",
    "    size = \"Humidity\",\n",
    "    color=\"City\",\n",
    "    alpha=.75\n",
    ")\n",
    "\n"
   ]
  },
  {
   "cell_type": "code",
   "execution_count": null,
   "id": "e5b60a34",
   "metadata": {},
   "outputs": [],
   "source": [
    "# Narrow down cities \n",
    "\n",
    "#A max temperature lower than 27 degrees but higher than 21\n",
    "city_data_df = city_data_df.loc[(city_data_df[\"Max Temp\"] < 27) & (city_data_df[\"Max Temp\"] > 21)]\n",
    "\n",
    "#Wind speed less than 4.5 m/s\n",
    "city_data_df = city_data_df.loc[(city_data_df[\"Wind Speed\"] < 4.5)]\n",
    "\n",
    "#Zero cloudiness\n",
    "city_data_df = city_data_df.loc[(city_data_df[\"Cloudiness\"] == 0)]\n",
    "\n",
    "# Drop results with null values\n",
    "city_data_df = city_data_df.dropna()\n",
    "\n",
    "# Display sample data\n",
    "city_data_df"
   ]
  },
  {
   "cell_type": "code",
   "execution_count": null,
   "id": "a74b0558",
   "metadata": {},
   "outputs": [],
   "source": [
    "# Use the Pandas copy function to create DataFrame \n",
    "\n",
    "city = city_data_df[\"City\"]\n",
    "country = city_data_df[\"Country\"]\n",
    "lat = city_data_df[\"Lat\"]\n",
    "lng = city_data_df[\"Lng\"]\n",
    "humidity = city_data_df[\"Humidity\"]\n",
    "\n",
    "hotel_df = city_data_df[{\"City\": city,\n",
    "                        \"Country\": country,\n",
    "                        \"Lat\": lat,\n",
    "                        \"Lng\": lng,\n",
    "                        \"Humidity\": humidity}]\n",
    "\n",
    "# Add an empty column, \"Hotel Name,\" to the DataFrame so you can store the hotel found using the Geoapify API\n",
    "hotel_df[\"Hotel Name\"] = \"\"\n",
    "\n",
    "# Display sample data\n",
    "hotel_df"
   ]
  },
  {
   "cell_type": "code",
   "execution_count": null,
   "id": "b1cde1a1",
   "metadata": {},
   "outputs": [],
   "source": [
    "# Set parameters to search for a hotel\n",
    "radius = 10000\n",
    "params = {\n",
    "    \"categories\": \"accommodation.hotel\",\n",
    "    \"apiKey\":geoapify_key\n",
    "}\n",
    "\n",
    "# Print a message to follow up the hotel search\n",
    "print(\"Starting hotel search\")\n",
    "\n",
    "# Iterate through the hotel_df DataFrame\n",
    "for index, row in hotel_df.iterrows():\n",
    "    # get latitude, longitude from the DataFrame\n",
    "    lat = row[\"Lat\"]\n",
    "    lon = row[\"Lng\"]\n",
    "    \n",
    "    # Add filter and bias parameters with the current city's latitude and longitude to the params dictionary\n",
    "    params[\"filter\"] = f\"circle:{lon},{lat},{radius}\"\n",
    "    params[\"bias\"] = f\"proximity:{lon},{lat}\"\n",
    "    \n",
    "    # Set base URL\n",
    "    base_url = \"https://api.geoapify.com/v2/places\"\n",
    "\n",
    "    # Make and API request using the params dictionary\n",
    "    name_address = requests.get(base_url, params=params)\n",
    "    \n",
    "    # Convert the API response to JSON format\n",
    "    name_address = name_address.json()\n",
    "    \n",
    "    # Grab the first hotel from the results and store the name in the hotel_df DataFrame\n",
    "    try:\n",
    "        hotel_df.loc[index, \"Hotel Name\"] = name_address[\"features\"][0][\"properties\"][\"name\"]\n",
    "    except (KeyError, IndexError):\n",
    "        # If no hotel is found, set the hotel name as \"No hotel found\".\n",
    "        hotel_df.loc[index, \"Hotel Name\"] = \"No hotel found\"\n",
    "        \n",
    "    # Log the search results\n",
    "    print(f\"{hotel_df.loc[index, 'City']} - nearest hotel: {hotel_df.loc[index, 'Hotel Name']}\")\n",
    "\n",
    "# Display sample data\n",
    "hotel_df"
   ]
  },
  {
   "cell_type": "code",
   "execution_count": null,
   "id": "b25381dc",
   "metadata": {},
   "outputs": [],
   "source": [
    "# Configure the map plot\n",
    "map_plot_2 = hotel_df.hvplot.points(\n",
    "    \"Lng\",\n",
    "    \"Lat\",\n",
    "    geo = True,\n",
    "    tiles = \"OSM\",\n",
    "    frame_width = 800,\n",
    "    frame_height = 600,\n",
    "    size = \"Humidity\",\n",
    "    color=\"City\",\n",
    "    alpha=.75,\n",
    "    hover_cols=[\"Hotel Name\", \"Country\"]\n",
    ")\n",
    "\n",
    "# Display the map\n",
    "map_plot_2"
   ]
  }
 ],
 "metadata": {
  "kernelspec": {
   "display_name": "Python 3 (ipykernel)",
   "language": "python",
   "name": "python3"
  },
  "language_info": {
   "codemirror_mode": {
    "name": "ipython",
    "version": 3
   },
   "file_extension": ".py",
   "mimetype": "text/x-python",
   "name": "python",
   "nbconvert_exporter": "python",
   "pygments_lexer": "ipython3",
   "version": "3.9.13"
  }
 },
 "nbformat": 4,
 "nbformat_minor": 5
}
